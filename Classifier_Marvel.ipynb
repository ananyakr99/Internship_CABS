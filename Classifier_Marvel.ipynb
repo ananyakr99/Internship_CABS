{
  "nbformat": 4,
  "nbformat_minor": 0,
  "metadata": {
    "colab": {
      "name": "Classifier_Marvel.ipynb",
      "provenance": []
    },
    "kernelspec": {
      "name": "python3",
      "display_name": "Python 3"
    },
    "language_info": {
      "name": "python"
    },
    "accelerator": "GPU"
  },
  "cells": [
    {
      "cell_type": "code",
      "metadata": {
        "colab": {
          "base_uri": "https://localhost:8080/"
        },
        "id": "7xYB4bdKjdvw",
        "outputId": "bd498da7-dbdf-48a7-f82e-bacfda50e7aa"
      },
      "source": [
        "from google.colab import drive\n",
        "drive.mount('/content/gdrive')"
      ],
      "execution_count": null,
      "outputs": [
        {
          "output_type": "stream",
          "text": [
            "Mounted at /content/gdrive\n"
          ],
          "name": "stdout"
        }
      ]
    },
    {
      "cell_type": "code",
      "metadata": {
        "id": "kcZVP601kOXA"
      },
      "source": [
        "import zipfile\n",
        "\n",
        "local_zip = '/content/gdrive/MyDrive/Marvel.v1i.multiclass.zip'\n",
        "zip_ref = zipfile.ZipFile(local_zip, 'r')\n",
        "zip_ref.extractall('/content')\n",
        "zip_ref.close()"
      ],
      "execution_count": null,
      "outputs": []
    },
    {
      "cell_type": "code",
      "metadata": {
        "id": "woiT55xokPnd"
      },
      "source": [
        "from keras.models import Sequential\n",
        "from keras_preprocessing.image import ImageDataGenerator\n",
        "from keras.layers import Dense, Activation, Flatten, Dropout, BatchNormalization\n",
        "from keras.layers import Conv2D, MaxPooling2D\n",
        "from keras import regularizers, optimizers\n",
        "import pandas as pd\n",
        "import numpy as np"
      ],
      "execution_count": null,
      "outputs": []
    },
    {
      "cell_type": "code",
      "metadata": {
        "id": "O2NgXxA2kZf-"
      },
      "source": [
        "df=pd.read_csv('/content/train/_classes.csv')\n",
        "\n",
        "columns=[\" cargo\", \" carrier\", \" cruise\", \" ship\"]\n",
        "\n",
        "datagen=ImageDataGenerator(rescale=1./255.)\n",
        "test_datagen=ImageDataGenerator(rescale=1./255.)"
      ],
      "execution_count": null,
      "outputs": []
    },
    {
      "cell_type": "code",
      "metadata": {
        "colab": {
          "base_uri": "https://localhost:8080/"
        },
        "id": "Bs4dE3gNk5Qd",
        "outputId": "0fd58a90-2dd4-47fd-ada4-6193d6cfce07"
      },
      "source": [
        "df.shape"
      ],
      "execution_count": null,
      "outputs": [
        {
          "output_type": "execute_result",
          "data": {
            "text/plain": [
              "(900, 5)"
            ]
          },
          "metadata": {
            "tags": []
          },
          "execution_count": 6
        }
      ]
    },
    {
      "cell_type": "code",
      "metadata": {
        "colab": {
          "base_uri": "https://localhost:8080/"
        },
        "id": "fQr0U_wvks4v",
        "outputId": "275b744e-515a-48a6-96aa-632c6021ee6b"
      },
      "source": [
        "train_generator=datagen.flow_from_dataframe(\n",
        "dataframe=df[:720],\n",
        "directory='/content/train',\n",
        "x_col=\"filename\",\n",
        "y_col= columns,\n",
        "batch_size=32,\n",
        "seed=42,\n",
        "shuffle=True,\n",
        "class_mode=\"raw\",\n",
        "target_size=(100,100))\n",
        "\n",
        "valid_generator=test_datagen.flow_from_dataframe(\n",
        "dataframe=df[720:810],\n",
        "directory='/content/train',\n",
        "x_col='filename',\n",
        "y_col= columns,\n",
        "batch_size=32,\n",
        "seed=42,\n",
        "shuffle=True,\n",
        "class_mode=\"raw\",\n",
        "target_size=(100,100))\n",
        "\n",
        "test_generator=test_datagen.flow_from_dataframe(\n",
        "dataframe=df[810:],\n",
        "directory='/content/train',\n",
        "x_col='filename',\n",
        "batch_size=1,\n",
        "seed=42,\n",
        "shuffle=False,\n",
        "class_mode=None,\n",
        "target_size=(100,100))"
      ],
      "execution_count": null,
      "outputs": [
        {
          "output_type": "stream",
          "text": [
            "Found 720 validated image filenames.\n",
            "Found 90 validated image filenames.\n",
            "Found 90 validated image filenames.\n"
          ],
          "name": "stdout"
        }
      ]
    },
    {
      "cell_type": "code",
      "metadata": {
        "id": "FKODmvaDo-w1"
      },
      "source": [
        "model = Sequential()\n",
        "model.add(Conv2D(32, (3, 3), padding='same',\n",
        "                 input_shape=(100,100,3)))\n",
        "model.add(Activation('relu'))\n",
        "model.add(Conv2D(32, (3, 3)))\n",
        "model.add(Activation('relu'))\n",
        "model.add(MaxPooling2D(pool_size=(2, 2)))\n",
        "model.add(Dropout(0.25))\n",
        "model.add(Conv2D(64, (3, 3), padding='same'))\n",
        "model.add(Activation('relu'))\n",
        "model.add(Conv2D(64, (3, 3)))\n",
        "model.add(Activation('relu'))\n",
        "model.add(MaxPooling2D(pool_size=(2, 2)))\n",
        "model.add(Dropout(0.25))\n",
        "model.add(Flatten())\n",
        "model.add(Dense(512))\n",
        "model.add(Activation('relu'))\n",
        "model.add(Dropout(0.5))\n",
        "model.add(Dense(4, activation='sigmoid'))\n",
        "model.compile(optimizers.RMSprop(lr=0.0001, decay=1e-6),loss=\"binary_crossentropy\",metrics=[\"accuracy\"])"
      ],
      "execution_count": null,
      "outputs": []
    },
    {
      "cell_type": "code",
      "metadata": {
        "colab": {
          "base_uri": "https://localhost:8080/"
        },
        "id": "RwN3WHsNo1y2",
        "outputId": "7aebd22c-3216-41c6-c271-0e26b121bda1"
      },
      "source": [
        "STEP_SIZE_TRAIN=train_generator.n//train_generator.batch_size\n",
        "STEP_SIZE_VALID=valid_generator.n//valid_generator.batch_size\n",
        "STEP_SIZE_TEST=test_generator.n//test_generator.batch_size\n",
        "model.fit_generator(generator=train_generator,\n",
        "                    steps_per_epoch=STEP_SIZE_TRAIN,\n",
        "                    validation_data=valid_generator,\n",
        "                    validation_steps=STEP_SIZE_VALID,\n",
        "                    epochs=10\n",
        ")"
      ],
      "execution_count": null,
      "outputs": [
        {
          "output_type": "stream",
          "text": [
            "/usr/local/lib/python3.7/dist-packages/tensorflow/python/keras/engine/training.py:1844: UserWarning: `Model.fit_generator` is deprecated and will be removed in a future version. Please use `Model.fit`, which supports generators.\n",
            "  warnings.warn('`Model.fit_generator` is deprecated and '\n"
          ],
          "name": "stderr"
        },
        {
          "output_type": "stream",
          "text": [
            "Epoch 1/10\n",
            "22/22 [==============================] - 36s 138ms/step - loss: 0.6311 - accuracy: 0.3113 - val_loss: 0.6238 - val_accuracy: 0.5625\n",
            "Epoch 2/10\n",
            "22/22 [==============================] - 2s 108ms/step - loss: 0.5883 - accuracy: 0.4236 - val_loss: 0.6365 - val_accuracy: 0.3906\n",
            "Epoch 3/10\n",
            "22/22 [==============================] - 2s 110ms/step - loss: 0.5677 - accuracy: 0.4908 - val_loss: 0.5984 - val_accuracy: 0.4844\n",
            "Epoch 4/10\n",
            "22/22 [==============================] - 3s 113ms/step - loss: 0.5478 - accuracy: 0.5173 - val_loss: 0.5818 - val_accuracy: 0.5781\n",
            "Epoch 5/10\n",
            "22/22 [==============================] - 2s 112ms/step - loss: 0.5271 - accuracy: 0.5637 - val_loss: 0.5332 - val_accuracy: 0.5625\n",
            "Epoch 6/10\n",
            "22/22 [==============================] - 2s 111ms/step - loss: 0.4815 - accuracy: 0.6568 - val_loss: 0.5049 - val_accuracy: 0.7500\n",
            "Epoch 7/10\n",
            "22/22 [==============================] - 2s 112ms/step - loss: 0.4715 - accuracy: 0.6551 - val_loss: 0.5049 - val_accuracy: 0.6875\n",
            "Epoch 8/10\n",
            "22/22 [==============================] - 3s 115ms/step - loss: 0.4490 - accuracy: 0.6895 - val_loss: 0.4699 - val_accuracy: 0.7500\n",
            "Epoch 9/10\n",
            "22/22 [==============================] - 3s 116ms/step - loss: 0.4541 - accuracy: 0.6594 - val_loss: 0.4837 - val_accuracy: 0.6875\n",
            "Epoch 10/10\n",
            "22/22 [==============================] - 3s 116ms/step - loss: 0.4336 - accuracy: 0.7350 - val_loss: 0.4645 - val_accuracy: 0.7969\n"
          ],
          "name": "stdout"
        },
        {
          "output_type": "execute_result",
          "data": {
            "text/plain": [
              "<tensorflow.python.keras.callbacks.History at 0x7faafa385450>"
            ]
          },
          "metadata": {
            "tags": []
          },
          "execution_count": 9
        }
      ]
    },
    {
      "cell_type": "code",
      "metadata": {
        "colab": {
          "base_uri": "https://localhost:8080/"
        },
        "id": "rbTz5k-8qsEM",
        "outputId": "5c577423-e505-4d7f-9904-35e4b3999ee9"
      },
      "source": [
        "test_generator.reset()\n",
        "pred=model.predict_generator(test_generator,\n",
        "steps=STEP_SIZE_TEST,\n",
        "verbose=1)"
      ],
      "execution_count": null,
      "outputs": [
        {
          "output_type": "stream",
          "text": [
            "/usr/local/lib/python3.7/dist-packages/tensorflow/python/keras/engine/training.py:1905: UserWarning: `Model.predict_generator` is deprecated and will be removed in a future version. Please use `Model.predict`, which supports generators.\n",
            "  warnings.warn('`Model.predict_generator` is deprecated and '\n"
          ],
          "name": "stderr"
        },
        {
          "output_type": "stream",
          "text": [
            "90/90 [==============================] - 1s 4ms/step\n"
          ],
          "name": "stdout"
        }
      ]
    },
    {
      "cell_type": "code",
      "metadata": {
        "id": "gvEjCUUorIZo"
      },
      "source": [
        "pred_bool = (pred >0.5)\n",
        "predictions = pred_bool.astype(int)\n",
        "columns=[\" cargo\", \" carrier\", \" cruise\", \" ship\"]\n",
        "#columns should be the same order of y_col\n",
        "results=pd.DataFrame(predictions, columns=columns)\n",
        "results[\"Filenames\"]=test_generator.filenames\n",
        "ordered_cols=[\"Filenames\"]+columns\n",
        "results=results[ordered_cols]#To get the same column order\n",
        "results.to_csv(\"results.csv\",index=False)"
      ],
      "execution_count": null,
      "outputs": []
    },
    {
      "cell_type": "code",
      "metadata": {
        "colab": {
          "base_uri": "https://localhost:8080/"
        },
        "id": "yaAIewadswbO",
        "outputId": "3071c536-fee1-4fd1-b5ce-d1839ff0825b"
      },
      "source": [
        "test_generator"
      ],
      "execution_count": null,
      "outputs": [
        {
          "output_type": "execute_result",
          "data": {
            "text/plain": [
              "<keras_preprocessing.image.dataframe_iterator.DataFrameIterator at 0x7fab4748b290>"
            ]
          },
          "metadata": {
            "tags": []
          },
          "execution_count": 12
        }
      ]
    },
    {
      "cell_type": "code",
      "metadata": {
        "id": "ej9HZFE1teli"
      },
      "source": [
        "an = df[810:].drop('filename',axis=1)"
      ],
      "execution_count": null,
      "outputs": []
    },
    {
      "cell_type": "code",
      "metadata": {
        "id": "rRNhjwAfu4uM"
      },
      "source": [
        "pa = an.to_numpy()"
      ],
      "execution_count": null,
      "outputs": []
    },
    {
      "cell_type": "code",
      "metadata": {
        "colab": {
          "base_uri": "https://localhost:8080/"
        },
        "id": "NFsza-IKvUlX",
        "outputId": "c38214b0-38ec-48e8-8b56-927a8bf8eec4"
      },
      "source": [
        "pa.shape"
      ],
      "execution_count": null,
      "outputs": [
        {
          "output_type": "execute_result",
          "data": {
            "text/plain": [
              "(90, 4)"
            ]
          },
          "metadata": {
            "tags": []
          },
          "execution_count": 25
        }
      ]
    },
    {
      "cell_type": "code",
      "metadata": {
        "colab": {
          "base_uri": "https://localhost:8080/"
        },
        "id": "cPGov3jrtW2D",
        "outputId": "d4e7c717-9454-4a26-a85a-b43e36da1177"
      },
      "source": [
        "pred"
      ],
      "execution_count": null,
      "outputs": [
        {
          "output_type": "execute_result",
          "data": {
            "text/plain": [
              "array([[0.6507455 , 0.19105388, 0.38333258, 0.22366224],\n",
              "       [0.8037897 , 0.14612536, 0.21144453, 0.1275342 ],\n",
              "       [0.1283659 , 0.04247718, 0.8758275 , 0.31334022],\n",
              "       [0.45975462, 0.62705064, 0.1112    , 0.16900982],\n",
              "       [0.6424793 , 0.42664558, 0.11535612, 0.11896646],\n",
              "       [0.12586176, 0.4999988 , 0.55847126, 0.31769806],\n",
              "       [0.26473272, 0.76482785, 0.10240874, 0.10732774],\n",
              "       [0.8173628 , 0.2012457 , 0.14527856, 0.1495102 ],\n",
              "       [0.85600126, 0.20027366, 0.07686587, 0.12218585],\n",
              "       [0.18719473, 0.18393576, 0.7319013 , 0.32552   ],\n",
              "       [0.2033428 , 0.28941426, 0.66880584, 0.30749843],\n",
              "       [0.11452372, 0.16193493, 0.8141954 , 0.4154517 ],\n",
              "       [0.5010663 , 0.50708514, 0.12428599, 0.13457708],\n",
              "       [0.81023043, 0.1168766 , 0.2331645 , 0.17894219],\n",
              "       [0.7393939 , 0.35916606, 0.10911518, 0.11714226],\n",
              "       [0.24839479, 0.18211557, 0.67435694, 0.26114088],\n",
              "       [0.46411103, 0.51712364, 0.15027416, 0.17311479],\n",
              "       [0.21922812, 0.55526525, 0.33763325, 0.16633503],\n",
              "       [0.4757531 , 0.34181702, 0.29794845, 0.23453322],\n",
              "       [0.7930603 , 0.07735825, 0.29905972, 0.23207259],\n",
              "       [0.19231275, 0.85917753, 0.07252969, 0.15349312],\n",
              "       [0.571446  , 0.4139771 , 0.13355374, 0.09939785],\n",
              "       [0.10312273, 0.322488  , 0.6869513 , 0.2462745 ],\n",
              "       [0.51385105, 0.08676718, 0.5235827 , 0.2088935 ],\n",
              "       [0.32999393, 0.34144026, 0.49392134, 0.2267358 ],\n",
              "       [0.46585995, 0.50736004, 0.18178226, 0.15092993],\n",
              "       [0.81047314, 0.25267404, 0.10796063, 0.1006555 ],\n",
              "       [0.15592231, 0.8000793 , 0.17521909, 0.18396296],\n",
              "       [0.86880666, 0.12804711, 0.11079876, 0.24600115],\n",
              "       [0.14181228, 0.6888646 , 0.396735  , 0.2565382 ],\n",
              "       [0.80816096, 0.27491254, 0.06444374, 0.12298324],\n",
              "       [0.20607457, 0.75455266, 0.12913011, 0.21166174],\n",
              "       [0.4414685 , 0.46805483, 0.27293235, 0.2734374 ],\n",
              "       [0.15557234, 0.6545371 , 0.36097232, 0.2555554 ],\n",
              "       [0.31402326, 0.39374048, 0.421276  , 0.19328935],\n",
              "       [0.20561337, 0.57776487, 0.36658573, 0.2813487 ],\n",
              "       [0.44628564, 0.28072673, 0.38222542, 0.24486867],\n",
              "       [0.56047094, 0.392463  , 0.15118012, 0.14954345],\n",
              "       [0.7700584 , 0.18644981, 0.272964  , 0.23169029],\n",
              "       [0.14090285, 0.5699776 , 0.48010787, 0.28420773],\n",
              "       [0.36443263, 0.40808162, 0.36806473, 0.33017933],\n",
              "       [0.7308495 , 0.25443998, 0.24238871, 0.21145543],\n",
              "       [0.1775959 , 0.4265447 , 0.49647552, 0.34610936],\n",
              "       [0.5025061 , 0.34511685, 0.34956092, 0.25838333],\n",
              "       [0.9185515 , 0.12045552, 0.07861661, 0.08172616],\n",
              "       [0.4756302 , 0.13114017, 0.5267885 , 0.21776202],\n",
              "       [0.32634076, 0.12954415, 0.66551137, 0.23897295],\n",
              "       [0.09497583, 0.8413841 , 0.18776277, 0.16804032],\n",
              "       [0.4556872 , 0.6051016 , 0.09881978, 0.13596806],\n",
              "       [0.3064967 , 0.3809393 , 0.44724998, 0.27231988],\n",
              "       [0.6215712 , 0.36296782, 0.23367737, 0.18530133],\n",
              "       [0.927637  , 0.0907252 , 0.08145995, 0.10467988],\n",
              "       [0.448739  , 0.3672365 , 0.33107603, 0.19256224],\n",
              "       [0.7046986 , 0.48466787, 0.03989399, 0.07365281],\n",
              "       [0.2182111 , 0.05041297, 0.81392646, 0.3709175 ],\n",
              "       [0.67170423, 0.39465487, 0.11236606, 0.11427858],\n",
              "       [0.5748907 , 0.07368878, 0.5267399 , 0.24173658],\n",
              "       [0.61286724, 0.36569822, 0.15530227, 0.1747913 ],\n",
              "       [0.30254185, 0.15183836, 0.6654807 , 0.4185278 ],\n",
              "       [0.170353  , 0.32477066, 0.6747891 , 0.34286898],\n",
              "       [0.51054543, 0.42849496, 0.24415918, 0.2730417 ],\n",
              "       [0.08176371, 0.05833672, 0.8887839 , 0.42136666],\n",
              "       [0.5576759 , 0.6159748 , 0.06834677, 0.15517315],\n",
              "       [0.47377616, 0.5356305 , 0.17033   , 0.21587573],\n",
              "       [0.3221812 , 0.7590431 , 0.06685168, 0.15230376],\n",
              "       [0.72696567, 0.23120779, 0.2494434 , 0.24509461],\n",
              "       [0.15829748, 0.06958941, 0.8433561 , 0.36777017],\n",
              "       [0.34652096, 0.46213123, 0.34453914, 0.15803637],\n",
              "       [0.28923836, 0.11467583, 0.71213007, 0.3595577 ],\n",
              "       [0.18937796, 0.04893333, 0.837764  , 0.43615785],\n",
              "       [0.3500652 , 0.1314438 , 0.6055212 , 0.3434961 ],\n",
              "       [0.42095438, 0.6132382 , 0.06830868, 0.2031929 ],\n",
              "       [0.6160578 , 0.45476264, 0.10224131, 0.08687708],\n",
              "       [0.5175759 , 0.5546739 , 0.08856151, 0.11256434],\n",
              "       [0.32087308, 0.25535604, 0.5345665 , 0.2735097 ],\n",
              "       [0.26124722, 0.20100437, 0.59381175, 0.19747053],\n",
              "       [0.19665042, 0.4214635 , 0.59433514, 0.3234893 ],\n",
              "       [0.7200207 , 0.44172534, 0.04436398, 0.08579264],\n",
              "       [0.26907927, 0.10732175, 0.73291194, 0.39178443],\n",
              "       [0.16987327, 0.50556433, 0.4904133 , 0.263714  ],\n",
              "       [0.91903603, 0.17346324, 0.03980231, 0.05351615],\n",
              "       [0.13364567, 0.02559232, 0.8748026 , 0.44309935],\n",
              "       [0.36309925, 0.45142272, 0.35420546, 0.24139163],\n",
              "       [0.43176818, 0.22330458, 0.54461783, 0.38028148],\n",
              "       [0.29119462, 0.20667295, 0.5303101 , 0.23756547],\n",
              "       [0.39154765, 0.42760125, 0.27014863, 0.1391193 ],\n",
              "       [0.1869358 , 0.27110708, 0.5957657 , 0.34570712],\n",
              "       [0.30625284, 0.4403258 , 0.4209007 , 0.2303756 ],\n",
              "       [0.45087555, 0.536705  , 0.1907066 , 0.14964034],\n",
              "       [0.35277018, 0.3697937 , 0.28912613, 0.11886703]], dtype=float32)"
            ]
          },
          "metadata": {
            "tags": []
          },
          "execution_count": 26
        }
      ]
    },
    {
      "cell_type": "code",
      "metadata": {
        "colab": {
          "base_uri": "https://localhost:8080/",
          "height": 357
        },
        "id": "9ez32BFIrlkD",
        "outputId": "4f6cc2d4-81bc-45ed-b03c-4e4bedd3523a"
      },
      "source": [
        "import matplotlib.pyplot as plt \n",
        "from sklearn.metrics import confusion_matrix\n",
        "\n",
        "labels = [' cargo', ' carrier', ' cruise', ' ship']\n",
        "cm = confusion_matrix(np.argmax(pa, axis=1), np.argmax(pred, axis=1), [0,1,2,3])\n",
        "print(cm)\n",
        "\n",
        "fig = plt.figure()\n",
        "ax = fig.add_subplot(111)\n",
        "cax = ax.matshow(cm)\n",
        "plt.title('Confusion matrix of the classifier')\n",
        "fig.colorbar(cax)\n",
        "ax.set_xticklabels([''] + labels)\n",
        "ax.set_yticklabels([''] + labels)\n",
        "plt.xlabel('Predicted')\n",
        "plt.ylabel('True')\n",
        "plt.show()"
      ],
      "execution_count": null,
      "outputs": [
        {
          "output_type": "stream",
          "text": [
            "[[24  5  3  0]\n",
            " [ 2 19  5  0]\n",
            " [ 5  5 22  0]\n",
            " [ 0  0  0  0]]\n"
          ],
          "name": "stdout"
        },
        {
          "output_type": "display_data",
          "data": {
            "image/png": "[encoded data removed]",
            "text/plain": [
              "<Figure size 432x288 with 2 Axes>"
            ]
          },
          "metadata": {
            "tags": [],
            "needs_background": "light"
          }
        }
      ]
    },
    {
      "cell_type": "code",
      "metadata": {
        "colab": {
          "base_uri": "https://localhost:8080/",
          "height": 606
        },
        "id": "NyAEM8C9yy3i",
        "outputId": "a8f5feb4-46ea-4cfe-ae95-e6e9175cf499"
      },
      "source": [
        "from sklearn.metrics import confusion_matrix\n",
        "import seaborn as sns\n",
        "\n",
        "cm = confusion_matrix(np.argmax(pa, axis=1), np.argmax(pred, axis=1), [0,1,2])\n",
        "# Normalise\n",
        "cmn = cm.astype('float')/cm.sum(axis=1)[:, np.newaxis]\n",
        "fig, ax = plt.subplots(figsize=(10,10))\n",
        "sns.heatmap(cmn, annot=True, fmt='.2f', xticklabels=[' cargo', ' carrier', ' cruise'], yticklabels=[' cargo', ' carrier', ' cruise'])\n",
        "plt.ylabel('Actual')\n",
        "plt.xlabel('Predicted')\n",
        "plt.show(block=False)"
      ],
      "execution_count": null,
      "outputs": [
        {
          "output_type": "display_data",
          "data": {
            "image/png": "[encoded data removed]",
            "text/plain": [
              "<Figure size 720x720 with 2 Axes>"
            ]
          },
          "metadata": {
            "tags": [],
            "needs_background": "light"
          }
        }
      ]
    }
  ]
}